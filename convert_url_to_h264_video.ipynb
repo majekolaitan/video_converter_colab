{
  "nbformat": 4,
  "nbformat_minor": 0,
  "metadata": {
    "colab": {
      "provenance": []
    },
    "kernelspec": {
      "name": "python3",
      "display_name": "Python 3"
    },
    "language_info": {
      "name": "python"
    }
  },
  "cells": [
    {
      "cell_type": "code",
      "execution_count": 5,
      "metadata": {
        "id": "VZM6zL8W28Lc",
        "colab": {
          "base_uri": "https://localhost:8080/"
        },
        "outputId": "71edfc94-6e9f-491e-91f0-d7c7d3cf5ed5"
      },
      "outputs": [
        {
          "output_type": "stream",
          "name": "stdout",
          "text": [
            "\r0% [Working]\r            \rHit:1 https://cloud.r-project.org/bin/linux/ubuntu jammy-cran40/ InRelease\n",
            "Hit:2 https://developer.download.nvidia.com/compute/cuda/repos/ubuntu2204/x86_64  InRelease\n",
            "Hit:3 http://archive.ubuntu.com/ubuntu jammy InRelease\n",
            "Hit:4 http://archive.ubuntu.com/ubuntu jammy-updates InRelease\n",
            "Hit:5 http://archive.ubuntu.com/ubuntu jammy-backports InRelease\n",
            "Hit:6 http://security.ubuntu.com/ubuntu jammy-security InRelease\n",
            "Hit:7 https://ppa.launchpadcontent.net/c2d4u.team/c2d4u4.0+/ubuntu jammy InRelease\n",
            "Hit:8 https://ppa.launchpadcontent.net/deadsnakes/ppa/ubuntu jammy InRelease\n",
            "Hit:9 https://ppa.launchpadcontent.net/graphics-drivers/ppa/ubuntu jammy InRelease\n",
            "Hit:10 https://ppa.launchpadcontent.net/ubuntugis/ppa/ubuntu jammy InRelease\n",
            "Reading package lists... Done\n",
            "Reading package lists... Done\n",
            "Building dependency tree... Done\n",
            "Reading state information... Done\n",
            "ffmpeg is already the newest version (7:4.4.2-0ubuntu0.22.04.1).\n",
            "0 upgraded, 0 newly installed, 0 to remove and 45 not upgraded.\n"
          ]
        }
      ],
      "source": [
        "import shutil\n",
        "from google.colab import files\n",
        "!apt-get update\n",
        "!apt-get install -y ffmpeg"
      ]
    },
    {
      "cell_type": "code",
      "source": [
        "url = \"https://ma4re4qwfh.b34zobxzxs73nkfxike1.cfd/res/614774a84bca32182e1b81d831542d9a/19055be0a088e197acb34c42ab3df061/Life_After_Fighting_(2024)_WEB-DL_720p_(fzmovies.net)_5386180e0b696e5fcefa40b9b0f63758.mkv?fromwebsite\"\n",
        "filename = 'Life_After_Fighting_(2024)_WEB-DL_720p.mkv'\n",
        "output_file = filename.replace(\".mkv\", \"-converted.mkv\")"
      ],
      "metadata": {
        "id": "ypUWO-eT4IJH"
      },
      "execution_count": 2,
      "outputs": []
    },
    {
      "cell_type": "code",
      "source": [
        "command = f\"wget '{url}' -O '{filename}'\"\n",
        "!{command}"
      ],
      "metadata": {
        "id": "l5jwcjBplQV0",
        "colab": {
          "base_uri": "https://localhost:8080/"
        },
        "outputId": "5e340c6a-3ecc-4dd7-f381-2d16c300b62e"
      },
      "execution_count": 3,
      "outputs": [
        {
          "output_type": "stream",
          "name": "stdout",
          "text": [
            "--2024-06-12 19:28:15--  https://ma4re4qwfh.b34zobxzxs73nkfxike1.cfd/res/614774a84bca32182e1b81d831542d9a/19055be0a088e197acb34c42ab3df061/Life_After_Fighting_(2024)_WEB-DL_720p_(fzmovies.net)_5386180e0b696e5fcefa40b9b0f63758.mkv?fromwebsite\n",
            "Resolving ma4re4qwfh.b34zobxzxs73nkfxike1.cfd (ma4re4qwfh.b34zobxzxs73nkfxike1.cfd)... 145.239.244.12\n",
            "Connecting to ma4re4qwfh.b34zobxzxs73nkfxike1.cfd (ma4re4qwfh.b34zobxzxs73nkfxike1.cfd)|145.239.244.12|:443... connected.\n",
            "HTTP request sent, awaiting response... 200 OK\n",
            "Length: 771268755 (736M) [video/x-matroska]\n",
            "Saving to: ‘Life_After_Fighting_(2024)_WEB-DL_720p.mkv’\n",
            "\n",
            "Life_After_Fighting 100%[===================>] 735.54M   643KB/s    in 10m 20s \n",
            "\n",
            "2024-06-12 19:38:37 (1.19 MB/s) - ‘Life_After_Fighting_(2024)_WEB-DL_720p.mkv’ saved [771268755/771268755]\n",
            "\n"
          ]
        }
      ]
    },
    {
      "cell_type": "code",
      "source": [
        "command = f\"ffprobe -i '{filename}'\"\n",
        "!{command}"
      ],
      "metadata": {
        "colab": {
          "base_uri": "https://localhost:8080/"
        },
        "id": "vWB0qyQP92iX",
        "outputId": "b8e9daf2-79d6-429b-8b3e-5eec6508bf2b"
      },
      "execution_count": 6,
      "outputs": [
        {
          "output_type": "stream",
          "name": "stdout",
          "text": [
            "ffprobe version 4.4.2-0ubuntu0.22.04.1 Copyright (c) 2007-2021 the FFmpeg developers\n",
            "  built with gcc 11 (Ubuntu 11.2.0-19ubuntu1)\n",
            "  configuration: --prefix=/usr --extra-version=0ubuntu0.22.04.1 --toolchain=hardened --libdir=/usr/lib/x86_64-linux-gnu --incdir=/usr/include/x86_64-linux-gnu --arch=amd64 --enable-gpl --disable-stripping --enable-gnutls --enable-ladspa --enable-libaom --enable-libass --enable-libbluray --enable-libbs2b --enable-libcaca --enable-libcdio --enable-libcodec2 --enable-libdav1d --enable-libflite --enable-libfontconfig --enable-libfreetype --enable-libfribidi --enable-libgme --enable-libgsm --enable-libjack --enable-libmp3lame --enable-libmysofa --enable-libopenjpeg --enable-libopenmpt --enable-libopus --enable-libpulse --enable-librabbitmq --enable-librubberband --enable-libshine --enable-libsnappy --enable-libsoxr --enable-libspeex --enable-libsrt --enable-libssh --enable-libtheora --enable-libtwolame --enable-libvidstab --enable-libvorbis --enable-libvpx --enable-libwebp --enable-libx265 --enable-libxml2 --enable-libxvid --enable-libzimg --enable-libzmq --enable-libzvbi --enable-lv2 --enable-omx --enable-openal --enable-opencl --enable-opengl --enable-sdl2 --enable-pocketsphinx --enable-librsvg --enable-libmfx --enable-libdc1394 --enable-libdrm --enable-libiec61883 --enable-chromaprint --enable-frei0r --enable-libx264 --enable-shared\n",
            "  libavutil      56. 70.100 / 56. 70.100\n",
            "  libavcodec     58.134.100 / 58.134.100\n",
            "  libavformat    58. 76.100 / 58. 76.100\n",
            "  libavdevice    58. 13.100 / 58. 13.100\n",
            "  libavfilter     7.110.100 /  7.110.100\n",
            "  libswscale      5.  9.100 /  5.  9.100\n",
            "  libswresample   3.  9.100 /  3.  9.100\n",
            "  libpostproc    55.  9.100 / 55.  9.100\n",
            "Input #0, matroska,webm, from 'Life_After_Fighting_(2024)_WEB-DL_720p.mkv':\n",
            "  Metadata:\n",
            "    title           : \n",
            "    ENCODER         : Lavf60.3.100\n",
            "  Duration: 02:05:13.59, start: 0.000000, bitrate: 821 kb/s\n",
            "  Chapters:\n",
            "    Chapter #0:0: start 0.007000, end 7508.007000\n",
            "      Metadata:\n",
            "        title           : Scene 01\n",
            "    Chapter #0:1: start 7508.007000, end 7513.575000\n",
            "      Metadata:\n",
            "        title           : End Credits\n",
            "  Stream #0:0: Video: h264 (High), yuv420p(tv, bt709, progressive), 1280x532 [SAR 399:400 DAR 12:5], 23.98 fps, 23.98 tbr, 1k tbn, 47.95 tbc (default)\n",
            "    Metadata:\n",
            "      title           : \n",
            "      ENCODER         : Lavc60.3.100 libx264\n",
            "      DURATION        : 02:05:13.554000000\n",
            "  Stream #0:1(eng): Audio: opus, 48000 Hz, stereo, fltp (default)\n",
            "    Metadata:\n",
            "      title           : \n",
            "      ENCODER         : Lavc60.3.100 libopus\n",
            "      DURATION        : 02:05:13.588000000\n",
            "  Stream #0:2(eng): Subtitle: subrip (default)\n",
            "    Metadata:\n",
            "      title           : \n",
            "      DURATION        : 02:05:13.201000000\n",
            "  Stream #0:3(eng): Subtitle: subrip (hearing impaired)\n",
            "    Metadata:\n",
            "      title           : SDH\n",
            "      DURATION        : 02:05:13.201000000\n"
          ]
        }
      ]
    },
    {
      "cell_type": "code",
      "source": [
        "command = f\"ffmpeg -i '{filename}' -c:v copy -c:a aac -map 0 '{output_file}'\"\n",
        "!{command}"
      ],
      "metadata": {
        "id": "KiNV1tuhiGXB",
        "colab": {
          "base_uri": "https://localhost:8080/"
        },
        "outputId": "b40e90af-4e38-480f-cb94-f70ba7634923"
      },
      "execution_count": 9,
      "outputs": [
        {
          "output_type": "stream",
          "name": "stdout",
          "text": [
            "ffmpeg version 4.4.2-0ubuntu0.22.04.1 Copyright (c) 2000-2021 the FFmpeg developers\n",
            "  built with gcc 11 (Ubuntu 11.2.0-19ubuntu1)\n",
            "  configuration: --prefix=/usr --extra-version=0ubuntu0.22.04.1 --toolchain=hardened --libdir=/usr/lib/x86_64-linux-gnu --incdir=/usr/include/x86_64-linux-gnu --arch=amd64 --enable-gpl --disable-stripping --enable-gnutls --enable-ladspa --enable-libaom --enable-libass --enable-libbluray --enable-libbs2b --enable-libcaca --enable-libcdio --enable-libcodec2 --enable-libdav1d --enable-libflite --enable-libfontconfig --enable-libfreetype --enable-libfribidi --enable-libgme --enable-libgsm --enable-libjack --enable-libmp3lame --enable-libmysofa --enable-libopenjpeg --enable-libopenmpt --enable-libopus --enable-libpulse --enable-librabbitmq --enable-librubberband --enable-libshine --enable-libsnappy --enable-libsoxr --enable-libspeex --enable-libsrt --enable-libssh --enable-libtheora --enable-libtwolame --enable-libvidstab --enable-libvorbis --enable-libvpx --enable-libwebp --enable-libx265 --enable-libxml2 --enable-libxvid --enable-libzimg --enable-libzmq --enable-libzvbi --enable-lv2 --enable-omx --enable-openal --enable-opencl --enable-opengl --enable-sdl2 --enable-pocketsphinx --enable-librsvg --enable-libmfx --enable-libdc1394 --enable-libdrm --enable-libiec61883 --enable-chromaprint --enable-frei0r --enable-libx264 --enable-shared\n",
            "  libavutil      56. 70.100 / 56. 70.100\n",
            "  libavcodec     58.134.100 / 58.134.100\n",
            "  libavformat    58. 76.100 / 58. 76.100\n",
            "  libavdevice    58. 13.100 / 58. 13.100\n",
            "  libavfilter     7.110.100 /  7.110.100\n",
            "  libswscale      5.  9.100 /  5.  9.100\n",
            "  libswresample   3.  9.100 /  3.  9.100\n",
            "  libpostproc    55.  9.100 / 55.  9.100\n",
            "Input #0, matroska,webm, from 'Life_After_Fighting_(2024)_WEB-DL_720p.mkv':\n",
            "  Metadata:\n",
            "    title           : \n",
            "    ENCODER         : Lavf60.3.100\n",
            "  Duration: 02:05:13.59, start: 0.000000, bitrate: 821 kb/s\n",
            "  Chapters:\n",
            "    Chapter #0:0: start 0.007000, end 7508.007000\n",
            "      Metadata:\n",
            "        title           : Scene 01\n",
            "    Chapter #0:1: start 7508.007000, end 7513.575000\n",
            "      Metadata:\n",
            "        title           : End Credits\n",
            "  Stream #0:0: Video: h264 (High), yuv420p(tv, bt709, progressive), 1280x532 [SAR 399:400 DAR 12:5], 23.98 fps, 23.98 tbr, 1k tbn, 47.95 tbc (default)\n",
            "    Metadata:\n",
            "      title           : \n",
            "      ENCODER         : Lavc60.3.100 libx264\n",
            "      DURATION        : 02:05:13.554000000\n",
            "  Stream #0:1(eng): Audio: opus, 48000 Hz, stereo, fltp (default)\n",
            "    Metadata:\n",
            "      title           : \n",
            "      ENCODER         : Lavc60.3.100 libopus\n",
            "      DURATION        : 02:05:13.588000000\n",
            "  Stream #0:2(eng): Subtitle: subrip (default)\n",
            "    Metadata:\n",
            "      title           : \n",
            "      DURATION        : 02:05:13.201000000\n",
            "  Stream #0:3(eng): Subtitle: subrip (hearing impaired)\n",
            "    Metadata:\n",
            "      title           : SDH\n",
            "      DURATION        : 02:05:13.201000000\n",
            "Stream mapping:\n",
            "  Stream #0:0 -> #0:0 (copy)\n",
            "  Stream #0:1 -> #0:1 (opus (native) -> aac (native))\n",
            "  Stream #0:2 -> #0:2 (subrip (srt) -> ass (ssa))\n",
            "  Stream #0:3 -> #0:3 (subrip (srt) -> ass (ssa))\n",
            "Press [q] to stop, [?] for help\n",
            "Output #0, matroska, to 'Life_After_Fighting_(2024)_WEB-DL_720p-converted.mkv':\n",
            "  Metadata:\n",
            "    title           : \n",
            "    encoder         : Lavf58.76.100\n",
            "  Chapters:\n",
            "    Chapter #0:0: start 0.007000, end 7508.007000\n",
            "      Metadata:\n",
            "        title           : Scene 01\n",
            "    Chapter #0:1: start 7508.007000, end 7513.575000\n",
            "      Metadata:\n",
            "        title           : End Credits\n",
            "  Stream #0:0: Video: h264 (High) (H264 / 0x34363248), yuv420p(tv, bt709, progressive), 1280x532 [SAR 399:400 DAR 12:5], q=2-31, 23.98 fps, 23.98 tbr, 1k tbn, 1k tbc (default)\n",
            "    Metadata:\n",
            "      title           : \n",
            "      ENCODER         : Lavc60.3.100 libx264\n",
            "      DURATION        : 02:05:13.554000000\n",
            "  Stream #0:1(eng): Audio: aac (LC) ([255][0][0][0] / 0x00FF), 48000 Hz, stereo, fltp, 128 kb/s (default)\n",
            "    Metadata:\n",
            "      title           : \n",
            "      DURATION        : 02:05:13.588000000\n",
            "      encoder         : Lavc58.134.100 aac\n",
            "  Stream #0:2(eng): Subtitle: ass (default)\n",
            "    Metadata:\n",
            "      title           : \n",
            "      DURATION        : 02:05:13.201000000\n",
            "      encoder         : Lavc58.134.100 ssa\n",
            "  Stream #0:3(eng): Subtitle: ass (hearing impaired)\n",
            "    Metadata:\n",
            "      title           : SDH\n",
            "      DURATION        : 02:05:13.201000000\n",
            "      encoder         : Lavc58.134.100 ssa\n",
            "\u001b[1;35m[matroska @ 0x5afd163d3dc0] \u001b[0m\u001b[0;33mStarting new cluster due to timestamp\n",
            "\u001b[1;35m[matroska @ 0x5afd163d3dc0] \u001b[0m\u001b[0;33mStarting new cluster due to timestamp\n",
            "\u001b[1;35m[matroska @ 0x5afd163d3dc0] \u001b[0m\u001b[0;33mStarting new cluster due to timestamp\n",
            "\u001b[1;35m[matroska @ 0x5afd163d3dc0] \u001b[0m\u001b[0;33mStarting new cluster due to timestamp\n",
            "\u001b[1;35m[matroska @ 0x5afd163d3dc0] \u001b[0m\u001b[0;33mStarting new cluster due to timestamp\n",
            "\u001b[1;35m[matroska @ 0x5afd163d3dc0] \u001b[0m\u001b[0;33mStarting new cluster due to timestamp\n",
            "\u001b[1;35m[matroska @ 0x5afd163d3dc0] \u001b[0m\u001b[0;33mStarting new cluster due to timestamp\n",
            "\u001b[1;35m[matroska @ 0x5afd163d3dc0] \u001b[0m\u001b[0;33mStarting new cluster due to timestamp\n",
            "\u001b[1;35m[matroska @ 0x5afd163d3dc0] \u001b[0m\u001b[0;33mStarting new cluster due to timestamp\n",
            "\u001b[1;35m[matroska @ 0x5afd163d3dc0] \u001b[0m\u001b[0;33mStarting new cluster due to timestamp\n",
            "\u001b[1;35m[matroska @ 0x5afd163d3dc0] \u001b[0m\u001b[0;33mStarting new cluster due to timestamp\n",
            "frame=180145 fps=1069 q=-1.0 Lsize=  763388kB time=02:05:13.56 bitrate= 832.3kbits/s speed=44.6x    \n",
            "video:641573kB audio:117847kB subtitle:125kB other streams:0kB global headers:1kB muxing overhead: 0.506067%\n",
            "\u001b[1;36m[aac @ 0x5afd163b9880] \u001b[0mQavg: 322.500\n"
          ]
        }
      ]
    },
    {
      "cell_type": "code",
      "source": [
        "command = f\"ffprobe -i '{output_file}'\"\n",
        "!{command}"
      ],
      "metadata": {
        "colab": {
          "base_uri": "https://localhost:8080/"
        },
        "id": "4hYbjcWaAa1E",
        "outputId": "24c4db7a-b778-4cb2-d494-4ff60e8a65fb"
      },
      "execution_count": 10,
      "outputs": [
        {
          "output_type": "stream",
          "name": "stdout",
          "text": [
            "ffprobe version 4.4.2-0ubuntu0.22.04.1 Copyright (c) 2007-2021 the FFmpeg developers\n",
            "  built with gcc 11 (Ubuntu 11.2.0-19ubuntu1)\n",
            "  configuration: --prefix=/usr --extra-version=0ubuntu0.22.04.1 --toolchain=hardened --libdir=/usr/lib/x86_64-linux-gnu --incdir=/usr/include/x86_64-linux-gnu --arch=amd64 --enable-gpl --disable-stripping --enable-gnutls --enable-ladspa --enable-libaom --enable-libass --enable-libbluray --enable-libbs2b --enable-libcaca --enable-libcdio --enable-libcodec2 --enable-libdav1d --enable-libflite --enable-libfontconfig --enable-libfreetype --enable-libfribidi --enable-libgme --enable-libgsm --enable-libjack --enable-libmp3lame --enable-libmysofa --enable-libopenjpeg --enable-libopenmpt --enable-libopus --enable-libpulse --enable-librabbitmq --enable-librubberband --enable-libshine --enable-libsnappy --enable-libsoxr --enable-libspeex --enable-libsrt --enable-libssh --enable-libtheora --enable-libtwolame --enable-libvidstab --enable-libvorbis --enable-libvpx --enable-libwebp --enable-libx265 --enable-libxml2 --enable-libxvid --enable-libzimg --enable-libzmq --enable-libzvbi --enable-lv2 --enable-omx --enable-openal --enable-opencl --enable-opengl --enable-sdl2 --enable-pocketsphinx --enable-librsvg --enable-libmfx --enable-libdc1394 --enable-libdrm --enable-libiec61883 --enable-chromaprint --enable-frei0r --enable-libx264 --enable-shared\n",
            "  libavutil      56. 70.100 / 56. 70.100\n",
            "  libavcodec     58.134.100 / 58.134.100\n",
            "  libavformat    58. 76.100 / 58. 76.100\n",
            "  libavdevice    58. 13.100 / 58. 13.100\n",
            "  libavfilter     7.110.100 /  7.110.100\n",
            "  libswscale      5.  9.100 /  5.  9.100\n",
            "  libswresample   3.  9.100 /  3.  9.100\n",
            "  libpostproc    55.  9.100 / 55.  9.100\n",
            "Input #0, matroska,webm, from 'Life_After_Fighting_(2024)_WEB-DL_720p-converted.mkv':\n",
            "  Metadata:\n",
            "    title           : \n",
            "    ENCODER         : Lavf58.76.100\n",
            "  Duration: 02:05:13.59, start: 0.000000, bitrate: 832 kb/s\n",
            "  Chapters:\n",
            "    Chapter #0:0: start 0.007000, end 7508.007000\n",
            "      Metadata:\n",
            "        title           : Scene 01\n",
            "    Chapter #0:1: start 7508.007000, end 7513.575000\n",
            "      Metadata:\n",
            "        title           : End Credits\n",
            "  Stream #0:0: Video: h264 (High), yuv420p(tv, bt709, progressive), 1280x532 [SAR 399:400 DAR 12:5], 23.98 fps, 23.98 tbr, 1k tbn, 47.95 tbc (default)\n",
            "    Metadata:\n",
            "      title           : \n",
            "      ENCODER         : Lavc60.3.100 libx264\n",
            "      DURATION        : 02:05:13.568000000\n",
            "  Stream #0:1(eng): Audio: aac (LC), 48000 Hz, stereo, fltp (default)\n",
            "    Metadata:\n",
            "      title           : \n",
            "      ENCODER         : Lavc58.134.100 aac\n",
            "      DURATION        : 02:05:13.589000000\n",
            "  Stream #0:2(eng): Subtitle: ass (default)\n",
            "    Metadata:\n",
            "      title           : \n",
            "      ENCODER         : Lavc58.134.100 ssa\n",
            "      DURATION        : 02:05:13.215000000\n",
            "  Stream #0:3(eng): Subtitle: ass (hearing impaired)\n",
            "    Metadata:\n",
            "      title           : SDH\n",
            "      ENCODER         : Lavc58.134.100 ssa\n",
            "      DURATION        : 02:05:13.215000000\n"
          ]
        }
      ]
    },
    {
      "cell_type": "code",
      "source": [
        "# Copy the file to Google Drive\n",
        "import shutil\n",
        "from google.colab import drive\n",
        "\n",
        "drive.mount('/content/drive')\n",
        "shutil.copy(output_file, f'/content/drive/MyDrive/Temp/{output_file}')\n"
      ],
      "metadata": {
        "id": "lhAAEU3qoDQM",
        "colab": {
          "base_uri": "https://localhost:8080/",
          "height": 53
        },
        "outputId": "0f2df7f5-690b-4fab-90ff-05a5197cc8b1"
      },
      "execution_count": 11,
      "outputs": [
        {
          "output_type": "stream",
          "name": "stdout",
          "text": [
            "Mounted at /content/drive\n"
          ]
        },
        {
          "output_type": "execute_result",
          "data": {
            "text/plain": [
              "'/content/drive/MyDrive/Temp/Life_After_Fighting_(2024)_WEB-DL_720p-converted.mkv'"
            ],
            "application/vnd.google.colaboratory.intrinsic+json": {
              "type": "string"
            }
          },
          "metadata": {},
          "execution_count": 11
        }
      ]
    }
  ]
}