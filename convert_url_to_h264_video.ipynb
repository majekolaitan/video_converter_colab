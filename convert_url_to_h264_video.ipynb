{
  "nbformat": 4,
  "nbformat_minor": 0,
  "metadata": {
    "colab": {
      "provenance": []
    },
    "kernelspec": {
      "name": "python3",
      "display_name": "Python 3"
    },
    "language_info": {
      "name": "python"
    }
  },
  "cells": [
    {
      "cell_type": "code",
      "execution_count": null,
      "metadata": {
        "id": "VZM6zL8W28Lc"
      },
      "outputs": [],
      "source": [
        "import shutil\n",
        "from google.colab import files\n",
        "!apt-get update\n",
        "!apt-get install -y ffmpeg"
      ]
    },
    {
      "cell_type": "code",
      "source": [
        "url = \"Enter ownload link here\"\n",
        "filename = 'Enter name of file plus extension'\n",
        "output_file = filename.replace(\".mkv\", \"-converted.mkv\")"
      ],
      "metadata": {
        "id": "ypUWO-eT4IJH"
      },
      "execution_count": null,
      "outputs": []
    },
    {
      "cell_type": "code",
      "source": [
        "command = f\"wget '{url}' -O '{filename}'\"\n",
        "!{command}"
      ],
      "metadata": {
        "id": "l5jwcjBplQV0"
      },
      "execution_count": null,
      "outputs": []
    },
    {
      "cell_type": "code",
      "source": [
        "command = f\"ffmpeg -i '{filename}' -c:v copy -c:a aac '{output_file}'\"\n",
        "!{command}"
      ],
      "metadata": {
        "id": "KiNV1tuhiGXB"
      },
      "execution_count": null,
      "outputs": []
    },
    {
      "cell_type": "code",
      "source": [
        "# Copy the file to Google Drive\n",
        "import shutil\n",
        "from google.colab import drive\n",
        "\n",
        "drive.mount('/content/drive')\n",
        "shutil.copy(output_file, f'/content/drive/MyDrive/Temp/{output_file}')\n"
      ],
      "metadata": {
        "id": "lhAAEU3qoDQM"
      },
      "execution_count": null,
      "outputs": []
    }
  ]
}